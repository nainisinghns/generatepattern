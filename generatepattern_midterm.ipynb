{
 "cells": [
  {
   "cell_type": "code",
   "execution_count": 1,
   "id": "78883a49",
   "metadata": {},
   "outputs": [
    {
     "name": "stdout",
     "output_type": "stream",
     "text": [
      "f(0,0):\n",
      "\n",
      "f(0.1):\n",
      "+\n",
      "*\n",
      " +\n",
      "\n",
      "f(0,4):\n",
      "+\n",
      "*\n",
      " +\n",
      "*\n",
      " +\n",
      " *\n",
      "  +\n",
      "*\n",
      " +\n",
      " *\n",
      "  +\n",
      " *\n",
      "  +\n",
      "  *\n",
      "   +\n"
     ]
    }
   ],
   "source": [
    "def tough(indent, pattern):\n",
    "    if pattern == 0:\n",
    "        return\n",
    "    if pattern == 1:\n",
    "        print(' '*indent + '+')\n",
    "        return\n",
    "    \n",
    "    tough(indent, pattern -1)\n",
    "    print(' '*indent+'*')\n",
    "    tough(indent+1, pattern-1)\n",
    "    \n",
    "print(\"f(0,0):\")\n",
    "tough(0,0)\n",
    "\n",
    "print(\"\\nf(0.1):\")\n",
    "tough(0,2)\n",
    "\n",
    "print('\\nf(0,4):')\n",
    "tough(0,4)"
   ]
  }
 ],
 "metadata": {
  "kernelspec": {
   "display_name": "Python 3 (ipykernel)",
   "language": "python",
   "name": "python3"
  },
  "language_info": {
   "codemirror_mode": {
    "name": "ipython",
    "version": 3
   },
   "file_extension": ".py",
   "mimetype": "text/x-python",
   "name": "python",
   "nbconvert_exporter": "python",
   "pygments_lexer": "ipython3",
   "version": "3.9.16"
  }
 },
 "nbformat": 4,
 "nbformat_minor": 5
}
